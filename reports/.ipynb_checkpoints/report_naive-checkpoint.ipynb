{
 "cells": [
  {
   "cell_type": "code",
   "execution_count": 248,
   "metadata": {
    "collapsed": false
   },
   "outputs": [
    {
     "name": "stdout",
     "output_type": "stream",
     "text": [
      "{\"name\": [\"Fibroadenoma\"], \"condition description\": [\"Fibroadenomas are the most common cause of a benign solid mass in the breast.\"], \"relevant finding\": \"Mass\", \"unique finding\": \"Diffuse, Regional, Grouped, Linear, Segmental\", \"parameters\": \"Margin\", \"typical\": NaN, \"possible\": NaN, \"unrelated\": \"Skin, Vascular, Large rod-like, Round, Rim, Dystrophic, Milk of calcium, Suture\", \"negative\": NaN, \"ignore\": NaN, \"associated conditions\": NaN, \"notes\": NaN}\n"
     ]
    }
   ],
   "source": [
    "import pandas as pd\n",
    "import numpy as np\n",
    "import random\n",
    "import json\n",
    "\n",
    "pd.read_excel(\"output_final.xlsx\")\n",
    "output_df = pd.read_excel(\"output_final.xlsx\")\n",
    "\"select mammography\"\n",
    "wd = output_df[:8]\n",
    "name = wd['Name'].values.tolist()[0:1]\n",
    "\"create list of values and slice empty entities from list\"\n",
    "cd = wd['Condition description'].values.tolist()[0:1]\n",
    "f_list = wd['Relevant findings']\n",
    "\"random finding\"\n",
    "f = random.choice(f_list)\n",
    "un_list = wd['Unique findings'].values.tolist()\n",
    "un = random.choice(u_list)\n",
    "\"empty - but will leave here just in case\"\n",
    "p_list = wd['Parameters']\n",
    "p = random.choice(p_list)\n",
    "t_list = wd['Typical'].values.tolist()\n",
    "t = random.choice(t_list)\n",
    "pos_list = wd['Possible']\n",
    "pos = random.choice(pos_list)\n",
    "u_list = wd['Unrelated'].values.tolist()\n",
    "u = random.choice(u_list)\n",
    "n_list = wd['Negative'].values.tolist()\n",
    "n = random.choice(n_list)\n",
    "i_list = wd['Ignore'].values.tolist()\n",
    "i = random.choice(i_list)\n",
    "a_list = wd['Associated conditions'].tolist()\n",
    "a = random.choice(a_list)\n",
    "dd_list = wd['Differential diagnosis'].tolist()\n",
    "dd = random.choice(dd_list)\n",
    "nt_list = wd['Notes'].tolist()\n",
    "nt = random.choice(nt_list)\n",
    "\n",
    "params = [\"name\", \"condition description\", \"relevant finding\", \"unique finding\", \"parameters\", \n",
    "          \"typical\", \"possible\", \"unrelated\", \"negative\", \"ignore\", \"associated conditions\", \"notes\"]\n",
    "keys = [name, cd, f, un, p, t, pos, u, n, i, a, dd, nt]\n",
    "\n",
    "rep = {}\n",
    "for i in range(len(params)):\n",
    "    rep[params[i]] = keys[i]\n",
    "    \n",
    "rep = json.dumps(rep)\n",
    "print(rep)\n"
   ]
  }
 ],
 "metadata": {
  "kernelspec": {
   "display_name": "Python 3",
   "language": "python",
   "name": "python3"
  },
  "language_info": {
   "codemirror_mode": {
    "name": "ipython",
    "version": 3
   },
   "file_extension": ".py",
   "mimetype": "text/x-python",
   "name": "python",
   "nbconvert_exporter": "python",
   "pygments_lexer": "ipython3",
   "version": "3.6.0"
  }
 },
 "nbformat": 4,
 "nbformat_minor": 2
}
